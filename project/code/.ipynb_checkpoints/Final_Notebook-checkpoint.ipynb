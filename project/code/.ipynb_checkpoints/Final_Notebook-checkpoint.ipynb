{
 "cells": [
  {
   "cell_type": "code",
   "execution_count": 45,
   "metadata": {
    "collapsed": true
   },
   "outputs": [],
   "source": [
    "import pandas as pd\n",
    "import numpy as np\n",
    "import matplotlib.pyplot as plt\n",
    "import seaborn as sns\n",
    "from sklearn.linear_model import LogisticRegression\n",
    "from sklearn.neighbors import KNeighborsClassifier\n",
    "from sklearn.model_selection import cross_val_score\n",
    "from sklearn.model_selection import train_test_split\n",
    "from sklearn import metrics\n",
    "%matplotlib inline"
   ]
  },
  {
   "cell_type": "code",
   "execution_count": 13,
   "metadata": {
    "collapsed": false
   },
   "outputs": [
    {
     "name": "stdout",
     "output_type": "stream",
     "text": [
      "(441456, 10)\n",
      "   _MICHD  SEX  MARITAL  _RFBMI5  DIABETE3  _RFCHOL  EXERANY2  FRUIT1  \\\n",
      "0     2.0  2.0      1.0      2.0       3.0      2.0       2.0   310.0   \n",
      "1     2.0  2.0      2.0      2.0       3.0      1.0       1.0   305.0   \n",
      "2     NaN  2.0      2.0      1.0       3.0      2.0       NaN     NaN   \n",
      "3     2.0  2.0      1.0      2.0       3.0      2.0       2.0   101.0   \n",
      "4     2.0  2.0      1.0      1.0       3.0      1.0       2.0   102.0   \n",
      "\n",
      "   _AGEG5YR  FVGREEN  \n",
      "0       9.0    310.0  \n",
      "1       7.0    202.0  \n",
      "2      11.0      NaN  \n",
      "3       9.0    301.0  \n",
      "4       9.0    204.0  \n"
     ]
    }
   ],
   "source": [
    "df = pd.read_csv(\"../data/extracted_subset.csv\")\n",
    "print df.shape\n",
    "print df.head()"
   ]
  },
  {
   "cell_type": "code",
   "execution_count": 14,
   "metadata": {
    "collapsed": false
   },
   "outputs": [
    {
     "name": "stdout",
     "output_type": "stream",
     "text": [
      "(133690, 11)\n"
     ]
    }
   ],
   "source": [
    "df = df[df._MICHD >= 1]\n",
    "df['HD'] = np.where(df['_MICHD']==1, 1, 0)\n",
    "df = df[df._AGEG5YR < 14]\n",
    "df = df[df._AGEG5YR >= 10]\n",
    "df = df[df._RFCHOL > 0]\n",
    "df = df[df.EXERANY2 > 0]\n",
    "df = df[df.FRUIT1 >= 0]\n",
    "df = df[df.FVGREEN >= 0]\n",
    "print df.shape"
   ]
  },
  {
   "cell_type": "code",
   "execution_count": 15,
   "metadata": {
    "collapsed": true
   },
   "outputs": [],
   "source": [
    "def fruit2daily_fruit(row):\n",
    "    if row['FRUIT1'] >= 100 and row['FRUIT1'] < 200:\n",
    "        val = row['FRUIT1']-100\n",
    "    elif row['FRUIT1'] >= 200 and row['FRUIT1'] < 300:\n",
    "        val = (row['FRUIT1']-200)/7\n",
    "    elif row['FRUIT1'] == 300:\n",
    "        val = 0.02\n",
    "    elif row['FRUIT1'] > 300 and row['FRUIT1']<400:\n",
    "        val = (row['FRUIT1'] - 300)/30\n",
    "    elif row['FRUIT1'] == 555:\n",
    "        val = 0\n",
    "    else: \n",
    "        val = float('NaN')\n",
    "    return val\n",
    "\n",
    "def fvgreen2daily_veggie(row):\n",
    "    if row['FVGREEN'] >= 100 and row['FVGREEN'] < 200:\n",
    "        val = row['FVGREEN']-100\n",
    "    elif row['FVGREEN'] >= 200 and row['FVGREEN'] < 300:\n",
    "        val = (row['FVGREEN']-200)/7\n",
    "    elif row['FVGREEN'] == 300:\n",
    "        val = 0.02\n",
    "    elif row['FVGREEN'] > 300 and row['FVGREEN']<400:\n",
    "        val = (row['FVGREEN'] - 300)/30\n",
    "    elif row['FVGREEN'] == 555:\n",
    "        val = 0\n",
    "    else: \n",
    "        val = float('NaN')\n",
    "    return val"
   ]
  },
  {
   "cell_type": "markdown",
   "metadata": {},
   "source": [
    "The following section creates dailyFruit and dailyVeggie features. It takes a couple of minutes to run. So please be patient!!"
   ]
  },
  {
   "cell_type": "code",
   "execution_count": 16,
   "metadata": {
    "collapsed": false
   },
   "outputs": [],
   "source": [
    "df['dailyFruit'] = df.apply(fruit2daily_fruit,axis = 1) \n",
    "df['dailyVeggie'] = df.apply(fvgreen2daily_veggie,axis = 1)"
   ]
  },
  {
   "cell_type": "code",
   "execution_count": 17,
   "metadata": {
    "collapsed": false
   },
   "outputs": [
    {
     "data": {
      "text/plain": [
       "(127038, 13)"
      ]
     },
     "execution_count": 17,
     "metadata": {},
     "output_type": "execute_result"
    }
   ],
   "source": [
    "df = df[df.dailyFruit >= 0]\n",
    "df = df[df.dailyVeggie >= 0]\n",
    "df = df[df.dailyFruit <= 3]\n",
    "df = df[df.dailyVeggie <= 3]\n",
    "df.shape"
   ]
  },
  {
   "cell_type": "code",
   "execution_count": 22,
   "metadata": {
    "collapsed": false
   },
   "outputs": [
    {
     "data": {
      "text/plain": [
       "<matplotlib.axes._subplots.AxesSubplot at 0x107cf358>"
      ]
     },
     "execution_count": 22,
     "metadata": {},
     "output_type": "execute_result"
    },
    {
     "data": {
      "image/png": "[encoded data removed]",
      "text/plain": [
       "<matplotlib.figure.Figure at 0xbd38588>"
      ]
     },
     "metadata": {},
     "output_type": "display_data"
    },
    {
     "data": {
      "image/png": "[encoded data removed]",
      "text/plain": [
       "<matplotlib.figure.Figure at 0x12157fd0>"
      ]
     },
     "metadata": {},
     "output_type": "display_data"
    }
   ],
   "source": [
    "df.boxplot(column=\"dailyFruit\", by=\"HD\")\n",
    "df.boxplot(column=\"dailyVeggie\", by=\"HD\")"
   ]
  },
  {
   "cell_type": "code",
   "execution_count": 24,
   "metadata": {
    "collapsed": true
   },
   "outputs": [],
   "source": [
    "df['single'] = np.where(df.MARITAL==1,0,np.where(df.MARITAL==6,0,1))\n",
    "df['diabetic'] = np.where(df.DIABETE3==1,1,np.where(df.DIABETE3==2,1,0))\n",
    "df['male'] = np.where(df.SEX == 1,1,0)\n",
    "df['hicholesterol'] = np.where(df._RFCHOL == 2, 1, 0)\n",
    "df['ow_obese'] = np.where(df._RFBMI5 == 2, 1, 0)\n",
    "df['exercise'] = np.where(df.EXERANY2 == 1, 1, 0)"
   ]
  },
  {
   "cell_type": "code",
   "execution_count": 30,
   "metadata": {
    "collapsed": false
   },
   "outputs": [
    {
     "data": {
      "text/plain": [
       "(127038, 9)"
      ]
     },
     "execution_count": 30,
     "metadata": {},
     "output_type": "execute_result"
    }
   ],
   "source": [
    "final_cols = [\"HD\",\"dailyFruit\",\"dailyVeggie\",\"exercise\",\"single\",\"ow_obese\",\"hicholesterol\",\"male\",\"diabetic\"]\n",
    "df = df[final_cols]\n",
    "df.shape"
   ]
  },
  {
   "cell_type": "code",
   "execution_count": 28,
   "metadata": {
    "collapsed": false
   },
   "outputs": [
    {
     "data": {
      "text/plain": [
       "<matplotlib.axes._subplots.AxesSubplot at 0x107cf2e8>"
      ]
     },
     "execution_count": 28,
     "metadata": {},
     "output_type": "execute_result"
    },
    {
     "data": {
      "image/png": "[encoded data removed]",
      "text/plain": [
       "<matplotlib.figure.Figure at 0x10961518>"
      ]
     },
     "metadata": {},
     "output_type": "display_data"
    }
   ],
   "source": [
    "sns.heatmap(df.corr())"
   ]
  },
  {
   "cell_type": "code",
   "execution_count": 29,
   "metadata": {
    "collapsed": true
   },
   "outputs": [],
   "source": [
    "# Save subset of clean data to CSV\n",
    "df.to_csv(\"../data/final_data_set.csv\",index=False)"
   ]
  },
  {
   "cell_type": "code",
   "execution_count": 64,
   "metadata": {
    "collapsed": false
   },
   "outputs": [
    {
     "name": "stdout",
     "output_type": "stream",
     "text": [
      "(127038, 9)\n"
     ]
    }
   ],
   "source": [
    "# Read dataset into dataframe\n",
    "df = pd.read_csv(\"../data/final_data_set.csv\")\n",
    "print df.shape"
   ]
  },
  {
   "cell_type": "code",
   "execution_count": 43,
   "metadata": {
    "collapsed": false
   },
   "outputs": [
    {
     "name": "stdout",
     "output_type": "stream",
     "text": [
      "(127038, 2) (127038L,)\n",
      "Accuracy:  0.829722921914\n",
      "Recall:  0.0\n",
      "[[26352     0]\n",
      " [ 5408     0]]\n"
     ]
    }
   ],
   "source": [
    "# Initial analysis with Logistic Regression\n",
    "feature_cols = [\"dailyFruit\",\"dailyVeggie\"]\n",
    "X = df[feature_cols]\n",
    "y = df.HD\n",
    "logReg = LogisticRegression()\n",
    "print X.shape, y.shape\n",
    "X_train, X_test, y_train, y_test = train_test_split(X, y, random_state=1)\n",
    "logReg.fit(X_train,y_train)    \n",
    "y_pred_class = logReg.predict(X_test)\n",
    "print \"Accuracy: \", metrics.accuracy_score(y_test, y_pred_class)\n",
    "print \"Recall: \", metrics.recall_score(y_test, y_pred_class)\n",
    "print metrics.confusion_matrix(y_test, y_pred_class)"
   ]
  },
  {
   "cell_type": "code",
   "execution_count": 56,
   "metadata": {
    "collapsed": false
   },
   "outputs": [
    {
     "name": "stdout",
     "output_type": "stream",
     "text": [
      "(127038, 2) (127038L,)\n",
      "Accuracy:  0.750409319899\n",
      "Recall:  0.133136094675\n",
      "[[23113  3239]\n",
      " [ 4688   720]]\n"
     ]
    }
   ],
   "source": [
    "# Initial analysis with KNN\n",
    "feature_cols = [\"dailyFruit\",\"dailyVeggie\"]\n",
    "X = df[feature_cols]\n",
    "y = df.HD\n",
    "print X.shape, y.shape\n",
    "knn = KNeighborsClassifier(n_neighbors= 1)\n",
    "X_train, X_test, y_train, y_test = train_test_split(X, y, random_state=1)\n",
    "knn.fit(X_train,y_train)    \n",
    "y_pred_class = knn.predict(X_test)\n",
    "print \"Accuracy: \", metrics.accuracy_score(y_test, y_pred_class)\n",
    "print \"Recall: \", metrics.recall_score(y_test, y_pred_class)\n",
    "print metrics.confusion_matrix(y_test, y_pred_class)"
   ]
  },
  {
   "cell_type": "code",
   "execution_count": 66,
   "metadata": {
    "collapsed": false
   },
   "outputs": [
    {
     "name": "stdout",
     "output_type": "stream",
     "text": [
      "# records before under sampling:  (43528, 9)\n",
      "# records after under sampling:  (43528, 9)\n"
     ]
    }
   ],
   "source": [
    "#Undersampling the data\n",
    "df_original = df\n",
    "print \"# records before under sampling: \", df.shape\n",
    "sample_size = sum(df_original.HD == 1)\n",
    "HD_indices = df_original[df_original.HD == 1].index\n",
    "nonHD_indices = df_original[df_original.HD == 0].index\n",
    "random_indices = np.random.choice(nonHD_indices, sample_size, replace=False)\n",
    "df = df_original.loc[random_indices]\n",
    "df = df.append(df_original.loc[HD_indices])\n",
    "print \"# records after under sampling: \", df.shape"
   ]
  },
  {
   "cell_type": "code",
   "execution_count": 83,
   "metadata": {
    "collapsed": false
   },
   "outputs": [
    {
     "name": "stdout",
     "output_type": "stream",
     "text": [
      "neighbors    1.000000\n",
      "metric       0.471976\n",
      "Name: 1, dtype: float64\n"
     ]
    }
   ],
   "source": [
    "# Analysis with KNN on Under sampled data\n",
    "feature_cols = [\"dailyFruit\",\"dailyVeggie\"]\n",
    "X = df[feature_cols]\n",
    "y = df.HD\n",
    "#print X.shape, y.shape\n",
    "scores_df = pd.DataFrame(columns = (\"neighbors\",\"metric\"))\n",
    "\n",
    "for i in range(1,10):\n",
    "    knn = KNeighborsClassifier(n_neighbors= i)\n",
    "    scores = cross_val_score(knn, X, y, cv=10, scoring='f1')\n",
    "    scores_df.loc[i] = [i,scores.mean()]\n",
    "#print scores_df\n",
    "print scores_df.loc[scores_df['metric'].idxmax()]"
   ]
  },
  {
   "cell_type": "code",
   "execution_count": 84,
   "metadata": {
    "collapsed": false
   },
   "outputs": [
    {
     "name": "stdout",
     "output_type": "stream",
     "text": [
      "0.531266149871\n",
      "[[2356 2998]\n",
      " [2444 3084]]\n"
     ]
    }
   ],
   "source": [
    "# Try predicting using train test split\n",
    "knn = KNeighborsClassifier(n_neighbors= 1)\n",
    "X_train, X_test, y_train, y_test = train_test_split(X, y, random_state=2)\n",
    "knn.fit(X_train,y_train)    \n",
    "y_pred_class = knn.predict(X_test)\n",
    "#print metrics.accuracy_score(y_test, y_pred_class)\n",
    "\n",
    "print metrics.f1_score(y_test, y_pred_class)\n",
    "\n",
    "print metrics.confusion_matrix(y_test, y_pred_class)"
   ]
  },
  {
   "cell_type": "code",
   "execution_count": 85,
   "metadata": {
    "collapsed": false
   },
   "outputs": [
    {
     "data": {
      "text/plain": [
       "<matplotlib.text.Text at 0xc2c4a90>"
      ]
     },
     "execution_count": 85,
     "metadata": {},
     "output_type": "execute_result"
    },
    {
     "data": {
      "image/png": "[encoded data removed]",
      "text/plain": [
       "<matplotlib.figure.Figure at 0x125710f0>"
      ]
     },
     "metadata": {},
     "output_type": "display_data"
    }
   ],
   "source": [
    "y_pred_prob = knn.predict_proba(X_test)[:, 1]\n",
    "plt.hist(y_pred_prob)\n",
    "plt.xlim(0, 1)\n",
    "plt.xlabel('Predicted probability of HD')\n",
    "plt.ylabel('Frequency')"
   ]
  },
  {
   "cell_type": "code",
   "execution_count": 68,
   "metadata": {
    "collapsed": false
   },
   "outputs": [
    {
     "name": "stdout",
     "output_type": "stream",
     "text": [
      "neighbors    1.000000\n",
      "metric       0.386601\n",
      "Name: 1, dtype: float64\n"
     ]
    }
   ],
   "source": [
    "# Analysis with KNN on Under sampled data with dailyFruit only\n",
    "feature_cols = [\"dailyFruit\"]\n",
    "X = df[feature_cols]\n",
    "y = df.HD\n",
    "#print X.shape, y.shape\n",
    "scores_df = pd.DataFrame(columns = (\"neighbors\",\"metric\"))\n",
    "\n",
    "for i in range(1,10):\n",
    "    knn = KNeighborsClassifier(n_neighbors= i)\n",
    "    scores = cross_val_score(knn, X, y, cv=10, scoring='f1')\n",
    "    scores_df.loc[i] = [i,scores.mean()]\n",
    "#print scores_df\n",
    "print scores_df.loc[scores_df['metric'].idxmax()]"
   ]
  },
  {
   "cell_type": "code",
   "execution_count": 78,
   "metadata": {
    "collapsed": false
   },
   "outputs": [
    {
     "name": "stdout",
     "output_type": "stream",
     "text": [
      "neighbors    19.000000\n",
      "metric        0.559043\n",
      "Name: 19, dtype: float64\n"
     ]
    }
   ],
   "source": [
    "# Analysis with KNN on under sampled data\n",
    "feature_cols = [\"dailyFruit\",\"dailyVeggie\",\"exercise\",\"diabetic\",\"hicholesterol\"]\n",
    "X = df[feature_cols]\n",
    "y = df.HD\n",
    "#print X.shape, y.shape\n",
    "scores_df = pd.DataFrame(columns = (\"neighbors\",\"metric\"))\n",
    "\n",
    "for i in range(1,20):\n",
    "    knn = KNeighborsClassifier(n_neighbors= i)\n",
    "    scores = cross_val_score(knn, X, y, cv=10, scoring='f1')\n",
    "    scores_df.loc[i] = [i,scores.mean()]\n",
    "#print scores_df\n",
    "print scores_df.loc[scores_df['metric'].idxmax()]"
   ]
  },
  {
   "cell_type": "code",
   "execution_count": 79,
   "metadata": {
    "collapsed": false
   },
   "outputs": [
    {
     "name": "stdout",
     "output_type": "stream",
     "text": [
      "0.602110157368\n",
      "[[3065 2289]\n",
      " [2161 3367]]\n"
     ]
    }
   ],
   "source": [
    "# Try predicting using train test split\n",
    "knn = KNeighborsClassifier(n_neighbors= 19)\n",
    "X_train, X_test, y_train, y_test = train_test_split(X, y, random_state=2)\n",
    "knn.fit(X_train,y_train)    \n",
    "y_pred_class = knn.predict(X_test)\n",
    "#print metrics.accuracy_score(y_test, y_pred_class)\n",
    "print metrics.f1_score(y_test, y_pred_class)\n",
    "print metrics.confusion_matrix(y_test, y_pred_class)"
   ]
  },
  {
   "cell_type": "code",
   "execution_count": 82,
   "metadata": {
    "collapsed": false
   },
   "outputs": [
    {
     "data": {
      "text/plain": [
       "<matplotlib.text.Text at 0xf68c5c0>"
      ]
     },
     "execution_count": 82,
     "metadata": {},
     "output_type": "execute_result"
    },
    {
     "data": {
      "image/png": "[encoded data removed]",
      "text/plain": [
       "<matplotlib.figure.Figure at 0x125714a8>"
      ]
     },
     "metadata": {},
     "output_type": "display_data"
    }
   ],
   "source": [
    "y_pred_prob = knn.predict_proba(X_test)[:, 1]\n",
    "plt.hist(y_pred_prob)\n",
    "plt.xlim(0, 1)\n",
    "plt.xlabel('Predicted probability of HD')\n",
    "plt.ylabel('Frequency')"
   ]
  }
 ],
 "metadata": {
  "kernelspec": {
   "display_name": "Python 2",
   "language": "python",
   "name": "python2"
  },
  "language_info": {
   "codemirror_mode": {
    "name": "ipython",
    "version": 2
   },
   "file_extension": ".py",
   "mimetype": "text/x-python",
   "name": "python",
   "nbconvert_exporter": "python",
   "pygments_lexer": "ipython2",
   "version": "2.7.13"
  }
 },
 "nbformat": 4,
 "nbformat_minor": 2
}
