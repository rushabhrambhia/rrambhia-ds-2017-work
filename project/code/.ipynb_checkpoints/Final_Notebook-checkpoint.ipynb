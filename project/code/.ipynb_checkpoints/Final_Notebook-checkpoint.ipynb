{
 "cells": [
  {
   "cell_type": "markdown",
   "metadata": {},
   "source": [
    "### Hypothesis ###\n",
    "_Daily fruit and veggie intake are good predictors of Heart Disease in Seniors (>65 years)._"
   ]
  },
  {
   "cell_type": "code",
   "execution_count": 20,
   "metadata": {
    "collapsed": true
   },
   "outputs": [],
   "source": [
    "import pandas as pd\n",
    "import numpy as np\n",
    "import matplotlib.pyplot as plt\n",
    "import seaborn as sns\n",
    "from sklearn.linear_model import LogisticRegression\n",
    "from sklearn.neighbors import KNeighborsClassifier\n",
    "from sklearn.model_selection import cross_val_score\n",
    "from sklearn.model_selection import train_test_split\n",
    "from sklearn import metrics\n",
    "%matplotlib inline"
   ]
  },
  {
   "cell_type": "markdown",
   "metadata": {},
   "source": [
    "### Import subset of data that has only the columns of interest\n",
    "_The source data set have over 330 columns and 441000 records. I created a web of causation to determine what columns were important to my analysis_"
   ]
  },
  {
   "cell_type": "code",
   "execution_count": 21,
   "metadata": {
    "collapsed": false
   },
   "outputs": [
    {
     "name": "stdout",
     "output_type": "stream",
     "text": [
      "(441456, 10)\n",
      "   _MICHD  SEX  MARITAL  _RFBMI5  DIABETE3  _RFCHOL  EXERANY2  FRUIT1  \\\n",
      "0     2.0  2.0      1.0      2.0       3.0      2.0       2.0   310.0   \n",
      "1     2.0  2.0      2.0      2.0       3.0      1.0       1.0   305.0   \n",
      "2     NaN  2.0      2.0      1.0       3.0      2.0       NaN     NaN   \n",
      "3     2.0  2.0      1.0      2.0       3.0      2.0       2.0   101.0   \n",
      "4     2.0  2.0      1.0      1.0       3.0      1.0       2.0   102.0   \n",
      "\n",
      "   _AGEG5YR  FVGREEN  \n",
      "0       9.0    310.0  \n",
      "1       7.0    202.0  \n",
      "2      11.0      NaN  \n",
      "3       9.0    301.0  \n",
      "4       9.0    204.0  \n"
     ]
    }
   ],
   "source": [
    "df = pd.read_csv(\"../data/extracted_subset.csv\")\n",
    "print df.shape\n",
    "print df.head()"
   ]
  },
  {
   "cell_type": "markdown",
   "metadata": {},
   "source": [
    "### Data Preparation\n",
    "\n",
    "_Exclude nulls and apply age limit_\n",
    "* No response or NaN for response variable (_MICHD)\n",
    "* No response to age (_AGEG5YR >= 14)\n",
    "* Less than 65 years of age (AGEG5YR)\n",
    "* Null values for cholesterol question (_RFCHOL)\n",
    "* Null values for exercise (EXERANY2)\n",
    "* Null values for dailyFruit (FRUIT1)Null value for dailyVeggie (FVGREEN)"
   ]
  },
  {
   "cell_type": "code",
   "execution_count": 22,
   "metadata": {
    "collapsed": false
   },
   "outputs": [
    {
     "name": "stdout",
     "output_type": "stream",
     "text": [
      "(133690, 10)\n"
     ]
    }
   ],
   "source": [
    "df = df[df._MICHD >= 1]\n",
    "df = df[df._AGEG5YR < 14]\n",
    "df = df[df._AGEG5YR >= 10]\n",
    "df = df[df._RFCHOL > 0]\n",
    "df = df[df.EXERANY2 > 0]\n",
    "df = df[df.FRUIT1 >= 0]\n",
    "df = df[df.FVGREEN >= 0]\n",
    "print df.shape"
   ]
  },
  {
   "cell_type": "markdown",
   "metadata": {},
   "source": [
    "### Data Preparation: Create Dummy Variables\n",
    "\n",
    "* **HD** (0 = doesnt have heart disease, 1 = has heart disease)\n",
    "* **single** (0 = not single, 1 = single)\n",
    "* **diabetic** (0 = does not have diabetes, 1 = has diabetes)\n",
    "* **male** (0 = female, 1 = male)\n",
    "* **hicholesterol** (0 = does not have high cholesterol, 1 = has high cholesterol)\n",
    "* **ow_obese** (0 = not overweight or obese, 1 = is overweight or obese)\n",
    "* **exercise** (0 = does not exercise regularly, 1 = exercises regularly)"
   ]
  },
  {
   "cell_type": "code",
   "execution_count": 23,
   "metadata": {
    "collapsed": true
   },
   "outputs": [],
   "source": [
    "df['single'] = np.where(df.MARITAL==1,0,np.where(df.MARITAL==6,0,1))\n",
    "df['diabetic'] = np.where(df.DIABETE3==1,1,np.where(df.DIABETE3==2,1,0))\n",
    "df['male'] = np.where(df.SEX == 1,1,0)\n",
    "df['hicholesterol'] = np.where(df._RFCHOL == 2, 1, 0)\n",
    "df['ow_obese'] = np.where(df._RFBMI5 == 2, 1, 0)\n",
    "df['exercise'] = np.where(df.EXERANY2 == 1, 1, 0)\n",
    "df['HD'] = np.where(df['_MICHD']==1, 1, 0)"
   ]
  },
  {
   "cell_type": "markdown",
   "metadata": {},
   "source": [
    "### Data Preparation: Create dailyFruit and dailyVeggie features\n",
    "\n",
    "_Below I have written functions to decode the values for FRUIT1 and FVGREEN columns from original data source_"
   ]
  },
  {
   "cell_type": "code",
   "execution_count": 24,
   "metadata": {
    "collapsed": true
   },
   "outputs": [],
   "source": [
    "def fruit2daily_fruit(row):\n",
    "    if row['FRUIT1'] >= 100 and row['FRUIT1'] < 200:\n",
    "        val = row['FRUIT1']-100\n",
    "    elif row['FRUIT1'] >= 200 and row['FRUIT1'] < 300:\n",
    "        val = (row['FRUIT1']-200)/7\n",
    "    elif row['FRUIT1'] == 300:\n",
    "        val = 0.02\n",
    "    elif row['FRUIT1'] > 300 and row['FRUIT1']<400:\n",
    "        val = (row['FRUIT1'] - 300)/30\n",
    "    elif row['FRUIT1'] == 555:\n",
    "        val = 0\n",
    "    else: \n",
    "        val = float('NaN')\n",
    "    return val\n",
    "\n",
    "def fvgreen2daily_veggie(row):\n",
    "    if row['FVGREEN'] >= 100 and row['FVGREEN'] < 200:\n",
    "        val = row['FVGREEN']-100\n",
    "    elif row['FVGREEN'] >= 200 and row['FVGREEN'] < 300:\n",
    "        val = (row['FVGREEN']-200)/7\n",
    "    elif row['FVGREEN'] == 300:\n",
    "        val = 0.02\n",
    "    elif row['FVGREEN'] > 300 and row['FVGREEN']<400:\n",
    "        val = (row['FVGREEN'] - 300)/30\n",
    "    elif row['FVGREEN'] == 555:\n",
    "        val = 0\n",
    "    else: \n",
    "        val = float('NaN')\n",
    "    return val"
   ]
  },
  {
   "cell_type": "markdown",
   "metadata": {},
   "source": [
    "### The following section creates dailyFruit and dailyVeggie features. It takes a couple of minutes to run. So please be patient!!"
   ]
  },
  {
   "cell_type": "code",
   "execution_count": 25,
   "metadata": {
    "collapsed": false
   },
   "outputs": [],
   "source": [
    "df['dailyFruit'] = df.apply(fruit2daily_fruit,axis = 1) \n",
    "df['dailyVeggie'] = df.apply(fvgreen2daily_veggie,axis = 1)"
   ]
  },
  {
   "cell_type": "code",
   "execution_count": 26,
   "metadata": {
    "collapsed": false
   },
   "outputs": [
    {
     "data": {
      "text/plain": [
       "count    130982.000000\n",
       "mean          1.013789\n",
       "std           1.097936\n",
       "min           0.000000\n",
       "25%           0.428571\n",
       "50%           1.000000\n",
       "75%           1.000000\n",
       "max          99.000000\n",
       "Name: dailyFruit, dtype: float64"
      ]
     },
     "execution_count": 26,
     "metadata": {},
     "output_type": "execute_result"
    }
   ],
   "source": [
    "df.dailyFruit.describe()"
   ]
  },
  {
   "cell_type": "code",
   "execution_count": 27,
   "metadata": {
    "collapsed": false
   },
   "outputs": [
    {
     "data": {
      "text/plain": [
       "<matplotlib.axes._subplots.AxesSubplot at 0xfc96588>"
      ]
     },
     "execution_count": 27,
     "metadata": {},
     "output_type": "execute_result"
    },
    {
     "data": {
      "image/png": "[encoded data removed]",
      "text/plain": [
       "<matplotlib.figure.Figure at 0xfc969b0>"
      ]
     },
     "metadata": {},
     "output_type": "display_data"
    }
   ],
   "source": [
    "df.boxplot(column=\"dailyFruit\", by=\"HD\")"
   ]
  },
  {
   "cell_type": "markdown",
   "metadata": {},
   "source": [
    "### Data Preparation: Exclude no responses / nulls for dailyFruit and dailyVeggie columns. Also exclude outliers!!\n",
    "\n",
    "_I have excluded any response that is greater than 3 for dailyFruit and dailyVeggie variables_"
   ]
  },
  {
   "cell_type": "code",
   "execution_count": 28,
   "metadata": {
    "collapsed": false
   },
   "outputs": [
    {
     "data": {
      "text/plain": [
       "(127038, 19)"
      ]
     },
     "execution_count": 28,
     "metadata": {},
     "output_type": "execute_result"
    }
   ],
   "source": [
    "df = df[df.dailyFruit >= 0]\n",
    "df = df[df.dailyVeggie >= 0]\n",
    "df = df[df.dailyFruit <= 3]\n",
    "df = df[df.dailyVeggie <= 3]\n",
    "df.shape"
   ]
  },
  {
   "cell_type": "markdown",
   "metadata": {},
   "source": [
    "### Create a new dataframe with final list of columns"
   ]
  },
  {
   "cell_type": "code",
   "execution_count": 29,
   "metadata": {
    "collapsed": false
   },
   "outputs": [
    {
     "data": {
      "text/plain": [
       "(127038, 9)"
      ]
     },
     "execution_count": 29,
     "metadata": {},
     "output_type": "execute_result"
    }
   ],
   "source": [
    "final_cols = [\"HD\",\"dailyFruit\",\"dailyVeggie\",\"exercise\",\"single\",\"ow_obese\",\"hicholesterol\",\"male\",\"diabetic\"]\n",
    "df = df[final_cols]\n",
    "df.shape"
   ]
  },
  {
   "cell_type": "markdown",
   "metadata": {},
   "source": [
    "### Data Exploration\n",
    "\n",
    "* Box plots for dailyFruit and dailyVeggie features by HD (0, 1)\n",
    "* Correlation heatmap for all variables"
   ]
  },
  {
   "cell_type": "code",
   "execution_count": 30,
   "metadata": {
    "collapsed": false
   },
   "outputs": [
    {
     "data": {
      "text/plain": [
       "<matplotlib.axes._subplots.AxesSubplot at 0xf83e940>"
      ]
     },
     "execution_count": 30,
     "metadata": {},
     "output_type": "execute_result"
    },
    {
     "data": {
      "image/png": "[encoded data removed]",
      "text/plain": [
       "<matplotlib.figure.Figure at 0xfc94198>"
      ]
     },
     "metadata": {},
     "output_type": "display_data"
    },
    {
     "data": {
      "image/png": "[encoded data removed]",
      "text/plain": [
       "<matplotlib.figure.Figure at 0xfc942b0>"
      ]
     },
     "metadata": {},
     "output_type": "display_data"
    }
   ],
   "source": [
    "df.boxplot(column=\"dailyFruit\", by=\"HD\")\n",
    "df.boxplot(column=\"dailyVeggie\", by=\"HD\")"
   ]
  },
  {
   "cell_type": "markdown",
   "metadata": {},
   "source": [
    "### Correlation Heatmap\n",
    "\n",
    "* Columns dailyFruit and dailyVeggie are correlated with each other. \n",
    "* Columns diabetic, male and hicholesterol are **slightly** correlated with response variable HD\n",
    "* Almost all correlations are insignificant!! <0.5"
   ]
  },
  {
   "cell_type": "code",
   "execution_count": 31,
   "metadata": {
    "collapsed": false
   },
   "outputs": [
    {
     "data": {
      "text/plain": [
       "<matplotlib.axes._subplots.AxesSubplot at 0x1048f748>"
      ]
     },
     "execution_count": 31,
     "metadata": {},
     "output_type": "execute_result"
    },
    {
     "data": {
      "image/png": "[encoded data removed]",
      "text/plain": [
       "<matplotlib.figure.Figure at 0xf6ab978>"
      ]
     },
     "metadata": {},
     "output_type": "display_data"
    }
   ],
   "source": [
    "sns.heatmap(df.corr(), annot=True)"
   ]
  },
  {
   "cell_type": "markdown",
   "metadata": {},
   "source": [
    "### Save subset of clean data to CSV\n",
    "\n",
    "_I am doing this so that anytime I want to try new models, I can simply load the final CSV and avoid all the above preprocessing steps_"
   ]
  },
  {
   "cell_type": "code",
   "execution_count": 32,
   "metadata": {
    "collapsed": true
   },
   "outputs": [],
   "source": [
    "df.to_csv(\"../data/final_data_set.csv\",index=False)"
   ]
  },
  {
   "cell_type": "markdown",
   "metadata": {},
   "source": [
    "### Read final dataset from CSV into dataframe"
   ]
  },
  {
   "cell_type": "code",
   "execution_count": 69,
   "metadata": {
    "collapsed": false
   },
   "outputs": [
    {
     "name": "stdout",
     "output_type": "stream",
     "text": [
      "(127038, 9)\n"
     ]
    }
   ],
   "source": [
    "df = pd.read_csv(\"../data/final_data_set.csv\")\n",
    "print df.shape"
   ]
  },
  {
   "cell_type": "markdown",
   "metadata": {},
   "source": [
    "### Preliminary analysis with Logistic Regression\n",
    "\n",
    "#### Conclusions\n",
    "* Accuracy as good as null accuracy\n",
    "* Recall is zero ie this model is always predicting 0s over 1s"
   ]
  },
  {
   "cell_type": "code",
   "execution_count": 50,
   "metadata": {
    "collapsed": false
   },
   "outputs": [
    {
     "name": "stdout",
     "output_type": "stream",
     "text": [
      "(127038, 2) (127038L,)\n",
      "Null Accuracy:  0.828681182009\n",
      "Accuracy:  0.829722921914\n",
      "Recall:  0.0\n",
      "[[26352     0]\n",
      " [ 5408     0]]\n"
     ]
    }
   ],
   "source": [
    "feature_cols = [\"dailyFruit\",\"dailyVeggie\"]\n",
    "X = df[feature_cols]\n",
    "y = df.HD\n",
    "logReg = LogisticRegression()\n",
    "print X.shape, y.shape\n",
    "X_train, X_test, y_train, y_test = train_test_split(X, y, random_state=1)\n",
    "logReg.fit(X_train,y_train)    \n",
    "y_pred_class = logReg.predict(X_test)\n",
    "print \"Null Accuracy: \", float(y.value_counts()[0])/len(y)\n",
    "print \"Accuracy: \", metrics.accuracy_score(y_test, y_pred_class)\n",
    "print \"Recall: \", metrics.recall_score(y_test, y_pred_class)\n",
    "print metrics.confusion_matrix(y_test, y_pred_class)"
   ]
  },
  {
   "cell_type": "markdown",
   "metadata": {},
   "source": [
    "### Preliminary analysis with KNN\n",
    "\n",
    "#### Conclusions\n",
    "* Accuracy is worse compared to null accuracy\n",
    "* Recall is 13% ie this model correctly identifies people with heart disease 13% of times"
   ]
  },
  {
   "cell_type": "code",
   "execution_count": 35,
   "metadata": {
    "collapsed": false
   },
   "outputs": [
    {
     "name": "stdout",
     "output_type": "stream",
     "text": [
      "(127038, 2) (127038L,)\n",
      "Accuracy:  0.750409319899\n",
      "Recall:  0.133136094675\n",
      "[[23113  3239]\n",
      " [ 4688   720]]\n"
     ]
    }
   ],
   "source": [
    "# Initial analysis with KNN\n",
    "feature_cols = [\"dailyFruit\",\"dailyVeggie\"]\n",
    "X = df[feature_cols]\n",
    "y = df.HD\n",
    "print X.shape, y.shape\n",
    "knn = KNeighborsClassifier(n_neighbors= 1)\n",
    "X_train, X_test, y_train, y_test = train_test_split(X, y, random_state=1)\n",
    "knn.fit(X_train,y_train)    \n",
    "y_pred_class = knn.predict(X_test)\n",
    "print \"Accuracy: \", metrics.accuracy_score(y_test, y_pred_class)\n",
    "print \"Recall: \", metrics.recall_score(y_test, y_pred_class)\n",
    "print metrics.confusion_matrix(y_test, y_pred_class)"
   ]
  },
  {
   "cell_type": "markdown",
   "metadata": {},
   "source": [
    "### Tricks to handle Imbalanced Data\n",
    "\n",
    "* **Undersampling**: I decided to balance my data so that number of records with HD = 0 is the same as the number of records with HD = 1. This means that null accuracy of this subset would be 50%.\n",
    "\n",
    "\n",
    "* **Use of Cost Sensitive Measure for Validation**: I also decided to use f1 score as it is important to know what percentage of actual positives is the model able to predict correctly. F1 score is combination of precision and recall. The greater the value the better the model prediction"
   ]
  },
  {
   "cell_type": "code",
   "execution_count": 70,
   "metadata": {
    "collapsed": false
   },
   "outputs": [
    {
     "name": "stdout",
     "output_type": "stream",
     "text": [
      "# records before under sampling:  (127038, 9)\n",
      "# records after under sampling:  (43528, 9)\n"
     ]
    }
   ],
   "source": [
    "df_original = df\n",
    "print \"# records before under sampling: \", df.shape\n",
    "sample_size = sum(df_original.HD == 1)\n",
    "HD_indices = df_original[df_original.HD == 1].index\n",
    "nonHD_indices = df_original[df_original.HD == 0].index\n",
    "random_indices = np.random.choice(nonHD_indices, sample_size, replace=False)\n",
    "df = df_original.loc[random_indices]\n",
    "df = df.append(df_original.loc[HD_indices])\n",
    "print \"# records after under sampling: \", df.shape"
   ]
  },
  {
   "cell_type": "markdown",
   "metadata": {},
   "source": [
    "### Using KNN on undersampled data and using f1 score as metric for validation"
   ]
  },
  {
   "cell_type": "code",
   "execution_count": 53,
   "metadata": {
    "collapsed": false
   },
   "outputs": [
    {
     "name": "stdout",
     "output_type": "stream",
     "text": [
      "Null accuracy of undersampled data:  0.5\n",
      "(43528, 2) (43528L,)\n",
      "neighbors    1.00000\n",
      "metric       0.45872\n",
      "Name: 1, dtype: float64\n"
     ]
    }
   ],
   "source": [
    "# Analysis with KNN on Under sampled data\n",
    "feature_cols = [\"dailyFruit\",\"dailyVeggie\"]\n",
    "X = df[feature_cols]\n",
    "y = df.HD\n",
    "print \"Null accuracy of undersampled data: \",float(y.value_counts()[0])/len(y) \n",
    "print X.shape, y.shape\n",
    "scores_df = pd.DataFrame(columns = (\"neighbors\",\"metric\"))\n",
    "\n",
    "for i in range(1,10):\n",
    "    knn = KNeighborsClassifier(n_neighbors= i)\n",
    "    scores = cross_val_score(knn, X, y, cv=10, scoring='f1')\n",
    "    scores_df.loc[i] = [i,scores.mean()]\n",
    "#print scores_df\n",
    "print scores_df.loc[scores_df['metric'].idxmax()]"
   ]
  },
  {
   "cell_type": "markdown",
   "metadata": {},
   "source": [
    "### Use train test split with KNN, undersampled data and f1 score"
   ]
  },
  {
   "cell_type": "code",
   "execution_count": 57,
   "metadata": {
    "collapsed": false
   },
   "outputs": [
    {
     "name": "stdout",
     "output_type": "stream",
     "text": [
      "f1 score:  0.523767293366\n",
      "accuracy:  0.506524535931\n",
      "[[2559 2795]\n",
      " [2575 2953]]\n"
     ]
    }
   ],
   "source": [
    "# Try predicting using train test split\n",
    "knn = KNeighborsClassifier(n_neighbors= 1)\n",
    "X_train, X_test, y_train, y_test = train_test_split(X, y, random_state=2)\n",
    "knn.fit(X_train,y_train)    \n",
    "y_pred_class = knn.predict(X_test)\n",
    "#print metrics.accuracy_score(y_test, y_pred_class)\n",
    "\n",
    "print \"f1 score: \", metrics.f1_score(y_test, y_pred_class)\n",
    "print \"accuracy: \", metrics.accuracy_score(y_test, y_pred_class)\n",
    "\n",
    "print metrics.confusion_matrix(y_test, y_pred_class)"
   ]
  },
  {
   "cell_type": "code",
   "execution_count": 56,
   "metadata": {
    "collapsed": false
   },
   "outputs": [
    {
     "data": {
      "text/plain": [
       "<matplotlib.text.Text at 0x1124b8d0>"
      ]
     },
     "execution_count": 56,
     "metadata": {},
     "output_type": "execute_result"
    },
    {
     "data": {
      "image/png": "[encoded data removed]",
      "text/plain": [
       "<matplotlib.figure.Figure at 0xc122d68>"
      ]
     },
     "metadata": {},
     "output_type": "display_data"
    }
   ],
   "source": [
    "y_pred_prob = knn.predict_proba(X_test)[:, 1]\n",
    "plt.hist(y_pred_prob)\n",
    "plt.xlim(0, 1)\n",
    "plt.xlabel('Predicted probability of HD')\n",
    "plt.ylabel('Frequency')"
   ]
  },
  {
   "cell_type": "markdown",
   "metadata": {},
   "source": [
    "### Problem with analysis so far\n",
    "\n",
    "_The model has a high bias as it achieves best f1 score at K = 1_"
   ]
  },
  {
   "cell_type": "markdown",
   "metadata": {},
   "source": [
    "### Running this model using only one feature : dailyFruit\n",
    "\n",
    "_I faced the same problem using dailyFruit as the only feature, the model had a high bias as it yielded the best f1 score for k = 1_"
   ]
  },
  {
   "cell_type": "code",
   "execution_count": 58,
   "metadata": {
    "collapsed": false
   },
   "outputs": [
    {
     "name": "stdout",
     "output_type": "stream",
     "text": [
      "neighbors    1.000000\n",
      "metric       0.425504\n",
      "Name: 1, dtype: float64\n"
     ]
    }
   ],
   "source": [
    "# Analysis with KNN on Under sampled data with dailyFruit only\n",
    "feature_cols = [\"dailyFruit\"]\n",
    "X = df[feature_cols]\n",
    "y = df.HD\n",
    "#print X.shape, y.shape\n",
    "scores_df = pd.DataFrame(columns = (\"neighbors\",\"metric\"))\n",
    "\n",
    "for i in range(1,10):\n",
    "    knn = KNeighborsClassifier(n_neighbors= i)\n",
    "    scores = cross_val_score(knn, X, y, cv=10, scoring='f1')\n",
    "    scores_df.loc[i] = [i,scores.mean()]\n",
    "#print scores_df\n",
    "print scores_df.loc[scores_df['metric'].idxmax()]"
   ]
  },
  {
   "cell_type": "markdown",
   "metadata": {},
   "source": [
    "### Use additional features such as exercise, diabetic and hicholesterol along with dailyFruit and dailyVeggie\n",
    "\n",
    "_I observed best value of f1 score at 0.60 as well as accuracy = 0.60 at k = 50; after which I observed diminishing returns for both f1 score and accuracy._"
   ]
  },
  {
   "cell_type": "code",
   "execution_count": 59,
   "metadata": {
    "collapsed": false
   },
   "outputs": [
    {
     "name": "stdout",
     "output_type": "stream",
     "text": [
      "neighbors    49.000000\n",
      "metric        0.589298\n",
      "Name: 49, dtype: float64\n"
     ]
    }
   ],
   "source": [
    "# Analysis with KNN on under sampled data\n",
    "feature_cols = [\"dailyFruit\",\"dailyVeggie\",\"exercise\",\"diabetic\",\"hicholesterol\"]\n",
    "X = df[feature_cols]\n",
    "y = df.HD\n",
    "#print X.shape, y.shape\n",
    "scores_df = pd.DataFrame(columns = (\"neighbors\",\"metric\"))\n",
    "\n",
    "for i in range(1,50):\n",
    "    knn = KNeighborsClassifier(n_neighbors= i)\n",
    "    scores = cross_val_score(knn, X, y, cv=10, scoring='f1')\n",
    "    scores_df.loc[i] = [i,scores.mean()]\n",
    "#print scores_df\n",
    "print scores_df.loc[scores_df['metric'].idxmax()]"
   ]
  },
  {
   "cell_type": "code",
   "execution_count": 60,
   "metadata": {
    "collapsed": false
   },
   "outputs": [
    {
     "data": {
      "text/plain": [
       "<matplotlib.text.Text at 0x1126cb70>"
      ]
     },
     "execution_count": 60,
     "metadata": {},
     "output_type": "execute_result"
    },
    {
     "data": {
      "image/png": "[encoded data removed]",
      "text/plain": [
       "<matplotlib.figure.Figure at 0x13d0afd0>"
      ]
     },
     "metadata": {},
     "output_type": "display_data"
    }
   ],
   "source": [
    "plt.plot(scores_df.neighbors, scores_df.metric, color='red')\n",
    "plt.xlabel('neighbors (k)')\n",
    "plt.ylabel('f1-score')"
   ]
  },
  {
   "cell_type": "markdown",
   "metadata": {},
   "source": [
    "### Use accuracy for model validation\n",
    "\n",
    "_I observed best value of f1 score at 0.60 as well as accuracy = 0.60 at k = 50; after which I observed diminishing returns for both f1 score and accuracy._"
   ]
  },
  {
   "cell_type": "code",
   "execution_count": 63,
   "metadata": {
    "collapsed": false
   },
   "outputs": [
    {
     "name": "stdout",
     "output_type": "stream",
     "text": [
      "neighbors    49.000000\n",
      "metric        0.598374\n",
      "Name: 49, dtype: float64\n"
     ]
    }
   ],
   "source": [
    "# Analysis with KNN on under sampled data with accuracy\n",
    "feature_cols = [\"dailyFruit\",\"dailyVeggie\",\"exercise\",\"diabetic\",\"hicholesterol\"]\n",
    "X = df[feature_cols]\n",
    "y = df.HD\n",
    "#print X.shape, y.shape\n",
    "scores_df = pd.DataFrame(columns = (\"neighbors\",\"metric\"))\n",
    "\n",
    "for i in range(1,50):\n",
    "    knn = KNeighborsClassifier(n_neighbors= i)\n",
    "    scores = cross_val_score(knn, X, y, cv=10, scoring='accuracy')\n",
    "    scores_df.loc[i] = [i,scores.mean()]\n",
    "#print scores_df\n",
    "print scores_df.loc[scores_df['metric'].idxmax()]"
   ]
  },
  {
   "cell_type": "code",
   "execution_count": 64,
   "metadata": {
    "collapsed": false,
    "scrolled": true
   },
   "outputs": [
    {
     "data": {
      "text/plain": [
       "<matplotlib.text.Text at 0x1373b0b8>"
      ]
     },
     "execution_count": 64,
     "metadata": {},
     "output_type": "execute_result"
    },
    {
     "data": {
      "image/png": "[encoded data removed]",
      "text/plain": [
       "<matplotlib.figure.Figure at 0x137193c8>"
      ]
     },
     "metadata": {},
     "output_type": "display_data"
    }
   ],
   "source": [
    "plt.plot(scores_df.neighbors, scores_df.metric, color='red')\n",
    "plt.xlabel('neighbors (k)')\n",
    "plt.ylabel('accuracy')"
   ]
  },
  {
   "cell_type": "code",
   "execution_count": 72,
   "metadata": {
    "collapsed": false
   },
   "outputs": [
    {
     "name": "stdout",
     "output_type": "stream",
     "text": [
      "f1-score:  0.596096096096\n",
      "accuracy:  0.604484469767\n",
      "[[3402 1998]\n",
      " [2306 3176]]\n"
     ]
    }
   ],
   "source": [
    "# Try predicting using train test split\n",
    "feature_cols = [\"dailyFruit\",\"dailyVeggie\",\"exercise\",\"diabetic\",\"hicholesterol\"]\n",
    "X = df[feature_cols]\n",
    "y = df.HD\n",
    "knn = KNeighborsClassifier(n_neighbors= 50)\n",
    "X_train, X_test, y_train, y_test = train_test_split(X, y, random_state=300)\n",
    "knn.fit(X_train,y_train)    \n",
    "y_pred_class = knn.predict(X_test)\n",
    "#print metrics.accuracy_score(y_test, y_pred_class)\n",
    "print \"f1-score: \", metrics.f1_score(y_test, y_pred_class)\n",
    "print \"accuracy: \", metrics.accuracy_score(y_test, y_pred_class)\n",
    "print metrics.confusion_matrix(y_test, y_pred_class)"
   ]
  },
  {
   "cell_type": "code",
   "execution_count": 73,
   "metadata": {
    "collapsed": false
   },
   "outputs": [
    {
     "data": {
      "text/plain": [
       "<matplotlib.text.Text at 0x13c53908>"
      ]
     },
     "execution_count": 73,
     "metadata": {},
     "output_type": "execute_result"
    },
    {
     "data": {
      "image/png": "[encoded data removed]",
      "text/plain": [
       "<matplotlib.figure.Figure at 0xf76e908>"
      ]
     },
     "metadata": {},
     "output_type": "display_data"
    }
   ],
   "source": [
    "y_pred_prob = knn.predict_proba(X_test)[:, 1]\n",
    "plt.hist(y_pred_prob)\n",
    "plt.xlim(0, 1)\n",
    "plt.xlabel('Predicted probability of HD')\n",
    "plt.ylabel('Frequency')"
   ]
  },
  {
   "cell_type": "markdown",
   "metadata": {
    "collapsed": true
   },
   "source": [
    "### Conclusion\n",
    "\n",
    "**I conclude that dailyFruit and dailyVeggie intake are good predictors of heart disease as compared to features such as diabetes, hi cholesterol or exercise. Yet best results are achieved only when all these 5 features are used together for predicting heart disease in seniors.**"
   ]
  },
  {
   "cell_type": "markdown",
   "metadata": {},
   "source": [
    "### Next Steps\n",
    "\n",
    "* Include other variables\n",
    "* Apply other models\n",
    "* Apply Oversampling\n",
    "* Apply Undersampling with a different ratio\n",
    "* Impute values instead of excluding nulls"
   ]
  }
 ],
 "metadata": {
  "kernelspec": {
   "display_name": "Python 2",
   "language": "python",
   "name": "python2"
  },
  "language_info": {
   "codemirror_mode": {
    "name": "ipython",
    "version": 2
   },
   "file_extension": ".py",
   "mimetype": "text/x-python",
   "name": "python",
   "nbconvert_exporter": "python",
   "pygments_lexer": "ipython2",
   "version": "2.7.13"
  }
 },
 "nbformat": 4,
 "nbformat_minor": 2
}
